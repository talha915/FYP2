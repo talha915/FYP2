{
 "cells": [
  {
   "cell_type": "code",
   "execution_count": 1,
   "metadata": {},
   "outputs": [
    {
     "name": "stdout",
     "output_type": "stream",
     "text": [
      "['1.jpg', '10.jpg', '100.jpg', '101.jpg', '102.jpg', '103.jpg', '104.jpg', '105.jpg', '106.jpg', '107.jpg', '108.jpg', '109.jpg', '11.jpg', '110.jpg', '111.jpg', '112.jpg', '113.jpg', '114.jpg', '115.jpg', '116.jpg', '117.jpg', '118.jpg', '119.jpg', '12.jpg', '120.jpg', '121.jpg', '122.jpg', '123.jpg', '124.jpg', '125.jpg', '126.jpg', '127.jpg', '128.jpg', '129.jpg', '13.jpg', '130.jpg', '131.jpg', '132.jpg', '133.jpg', '134.jpg', '135.jpg', '136.jpg', '137.jpg', '138.jpg', '139.jpg', '14.jpg', '140.jpg', '141.jpg', '142.jpg', '143.jpg', '144.jpg', '145.jpg', '146.jpg', '147.jpg', '148.jpg', '149.jpg', '15.jpg', '150.jpg', '151.jpg', '152.jpg', '153.jpg', '154.jpg', '155.jpg', '156.jpg', '157.jpg', '158.jpg', '159.jpg', '16.jpg', '160.jpg', '161.jpg', '162.jpg', '163.jpg', '164.jpg', '165.jpg', '166.jpg', '167.jpg', '168.jpg', '169.jpg', '17.jpg', '170.jpg', '171.jpg', '172.jpg', '173.jpg', '174.jpg', '175.jpg', '176.jpg', '177.jpg', '178.jpg', '179.jpg', '18.jpg', '180.jpg', '181.jpg', '182.jpg', '183.jpg', '184.jpg', '185.jpg', '186.jpg', '187.jpg', '188.jpg', '189.jpg', '19.jpg', '190.jpg', '191.jpg', '192.jpg', '193.jpg', '194.jpg', '195.jpg', '196.jpg', '197.jpg', '198.jpg', '199.jpg', '2.jpg', '20.jpg', '200.jpg', '201.jpg', '202.jpg', '203.jpg', '204.jpg', '205.jpg', '206.jpg', '207.jpg', '208.jpg', '209.jpg', '21.jpg', '210.jpg', '211.jpg', '212.jpg', '213.jpg', '214.jpg', '215.jpg', '216.jpg', '217.jpg', '218.jpg', '219.jpg', '22.jpg', '220.jpg', '221.jpg', '222.jpg', '223.jpg', '224.jpg', '225.jpg', '226.jpg', '227.jpg', '228.jpg', '229.jpg', '23.jpg', '230.jpg', '231.jpg', '232.jpg', '233.jpg', '234.jpg', '235.jpg', '236.jpg', '237.jpg', '238.jpg', '239.jpg', '24.jpg', '240.jpg', '241.jpg', '242.jpg', '243.jpg', '244.jpg', '245.jpg', '246.jpg', '247.jpg', '248.jpg', '249.jpg', '25.jpg', '250.jpg', '251.jpg', '252.jpg', '253.jpg', '254.jpg', '255.jpg', '256.jpg', '257.jpg', '258.jpg', '259.jpg', '26.jpg', '260.jpg', '261.jpg', '262.jpg', '263.jpg', '264.jpg', '265.jpg', '266.jpg', '267.jpg', '268.jpg', '269.jpg', '27.jpg', '270.jpg', '271.jpg', '272.jpg', '273.jpg', '274.jpg', '275.jpg', '276.jpg', '277.jpg', '278.jpg', '279.jpg', '28.jpg', '280.jpg', '281.jpg', '282.jpg', '283.jpg', '284.jpg', '285.jpg', '286.jpg', '287.jpg', '288.jpg', '289.jpg', '29.jpg', '290.jpg', '291.jpg', '292.jpg', '293.jpg', '294.jpg', '295.jpg', '296.jpg', '297.jpg', '298.jpg', '299.jpg', '3.jpg', '30.jpg', '300.jpg', '31.jpg', '32.jpg', '33.jpg', '34.jpg', '35.jpg', '36.jpg', '37.jpg', '38.jpg', '39.jpg', '4.jpg', '40.jpg', '41.jpg', '42.jpg', '43.jpg', '44.jpg', '45.jpg', '46.jpg', '47.jpg', '48.jpg', '49.jpg', '5.jpg', '50.jpg', '51.jpg', '52.jpg', '53.jpg', '54.jpg', '55.jpg', '56.jpg', '57.jpg', '58.jpg', '59.jpg', '6.jpg', '60.jpg', '61.jpg', '62.jpg', '63.jpg', '64.jpg', '65.jpg', '66.jpg', '67.jpg', '68.jpg', '69.jpg', '7.jpg', '70.jpg', '71.jpg', '72.jpg', '73.jpg', '74.jpg', '75.jpg', '76.jpg', '77.jpg', '78.jpg', '79.jpg', '8.jpg', '80.jpg', '81.jpg', '82.jpg', '83.jpg', '84.jpg', '85.jpg', '86.jpg', '87.jpg', '88.jpg', '89.jpg', '9.jpg', '90.jpg', '91.jpg', '92.jpg', '93.jpg', '94.jpg', '95.jpg', '96.jpg', '97.jpg', '98.jpg', '99.jpg', 'Good Selfie (1).jpg', 'Good Selfie (10).jpg', 'Good Selfie (100).jpg', 'Good Selfie (101).jpg', 'Good Selfie (102).jpg', 'Good Selfie (103).jpg', 'Good Selfie (104).jpg', 'Good Selfie (105).jpg', 'Good Selfie (106).jpg', 'Good Selfie (107).jpg', 'Good Selfie (108).jpg', 'Good Selfie (109).jpg', 'Good Selfie (11).jpg', 'Good Selfie (110).jpg', 'Good Selfie (111).jpg', 'Good Selfie (112).jpg', 'Good Selfie (113).jpg', 'Good Selfie (114).jpg', 'Good Selfie (115).jpg', 'Good Selfie (116).jpg', 'Good Selfie (117).jpg', 'Good Selfie (118).jpg', 'Good Selfie (119).jpg', 'Good Selfie (12).jpg', 'Good Selfie (120).jpg', 'Good Selfie (121).jpg', 'Good Selfie (122).jpg', 'Good Selfie (123).jpg', 'Good Selfie (124).jpg', 'Good Selfie (125).jpg', 'Good Selfie (126).jpg', 'Good Selfie (127).jpg', 'Good Selfie (128).jpg', 'Good Selfie (129).jpg', 'Good Selfie (13).jpg', 'Good Selfie (130).jpg', 'Good Selfie (131).jpg', 'Good Selfie (132).jpg', 'Good Selfie (133).jpg', 'Good Selfie (134).jpg', 'Good Selfie (135).jpg', 'Good Selfie (136).jpg', 'Good Selfie (137).jpg', 'Good Selfie (138).jpg', 'Good Selfie (139).jpg', 'Good Selfie (14).jpg', 'Good Selfie (140).jpg', 'Good Selfie (141).jpg', 'Good Selfie (142).jpg', 'Good Selfie (143).jpg', 'Good Selfie (144).jpg', 'Good Selfie (145).jpg', 'Good Selfie (146).jpg', 'Good Selfie (147).jpg', 'Good Selfie (148).jpg', 'Good Selfie (149).jpg', 'Good Selfie (15).jpg', 'Good Selfie (150).jpg', 'Good Selfie (151).jpg', 'Good Selfie (152).jpg', 'Good Selfie (153).jpg', 'Good Selfie (154).jpg', 'Good Selfie (155).jpg', 'Good Selfie (156).jpg', 'Good Selfie (157).jpg', 'Good Selfie (158).jpg', 'Good Selfie (159).jpg', 'Good Selfie (16).jpg', 'Good Selfie (160).jpg', 'Good Selfie (161).jpg', 'Good Selfie (162).jpg', 'Good Selfie (163).jpg', 'Good Selfie (164).jpg', 'Good Selfie (165).jpg', 'Good Selfie (166).jpg', 'Good Selfie (167).jpg', 'Good Selfie (168).jpg', 'Good Selfie (169).jpg', 'Good Selfie (17).jpg', 'Good Selfie (170).jpg', 'Good Selfie (171).jpg', 'Good Selfie (172).jpg', 'Good Selfie (173).jpg', 'Good Selfie (174).jpg', 'Good Selfie (175).jpg', 'Good Selfie (176).jpg', 'Good Selfie (177).jpg', 'Good Selfie (178).jpg', 'Good Selfie (179).jpg', 'Good Selfie (18).jpg', 'Good Selfie (180).jpg', 'Good Selfie (181).jpg', 'Good Selfie (182).jpg', 'Good Selfie (183).jpg', 'Good Selfie (184).jpg', 'Good Selfie (185).jpg', 'Good Selfie (186).jpg', 'Good Selfie (187).jpg', 'Good Selfie (188).jpg', 'Good Selfie (189).jpg', 'Good Selfie (19).jpg', 'Good Selfie (190).jpg', 'Good Selfie (191).jpg', 'Good Selfie (192).jpg', 'Good Selfie (193).jpg', 'Good Selfie (194).jpg', 'Good Selfie (195).jpg', 'Good Selfie (196).jpg', 'Good Selfie (197).jpg', 'Good Selfie (198).jpg', 'Good Selfie (199).jpg', 'Good Selfie (2).jpg', 'Good Selfie (20).jpg', 'Good Selfie (200).jpg', 'Good Selfie (201).jpg', 'Good Selfie (202).jpg', 'Good Selfie (203).jpg', 'Good Selfie (204).jpg', 'Good Selfie (205).jpg', 'Good Selfie (206).jpg', 'Good Selfie (207).jpg', 'Good Selfie (208).jpg', 'Good Selfie (209).jpg', 'Good Selfie (21).jpg', 'Good Selfie (210).jpg', 'Good Selfie (211).jpg', 'Good Selfie (212).jpg', 'Good Selfie (213).jpg', 'Good Selfie (214).jpg', 'Good Selfie (215).jpg', 'Good Selfie (216).jpg', 'Good Selfie (217).jpg', 'Good Selfie (218).jpg', 'Good Selfie (219).jpg', 'Good Selfie (22).jpg', 'Good Selfie (220).jpg', 'Good Selfie (221).jpg', 'Good Selfie (222).jpg', 'Good Selfie (223).jpg', 'Good Selfie (224).jpg', 'Good Selfie (225).jpg', 'Good Selfie (226).jpg', 'Good Selfie (227).jpg', 'Good Selfie (228).jpg', 'Good Selfie (229).jpg', 'Good Selfie (23).jpg', 'Good Selfie (230).jpg', 'Good Selfie (231).jpg', 'Good Selfie (232).jpg', 'Good Selfie (233).jpg', 'Good Selfie (234).jpg', 'Good Selfie (235).jpg', 'Good Selfie (236).jpg', 'Good Selfie (237).jpg', 'Good Selfie (238).jpg', 'Good Selfie (239).jpg', 'Good Selfie (24).jpg', 'Good Selfie (240).jpg', 'Good Selfie (241).jpg', 'Good Selfie (242).jpg', 'Good Selfie (243).jpg', 'Good Selfie (244).jpg', 'Good Selfie (245).jpg', 'Good Selfie (246).jpg', 'Good Selfie (247).jpg', 'Good Selfie (248).jpg', 'Good Selfie (249).jpg', 'Good Selfie (25).jpg', 'Good Selfie (250).jpg', 'Good Selfie (251).jpg', 'Good Selfie (252).jpg', 'Good Selfie (253).jpg', 'Good Selfie (254).jpg', 'Good Selfie (255).jpg', 'Good Selfie (256).jpg', 'Good Selfie (257).jpg', 'Good Selfie (258).jpg', 'Good Selfie (259).jpg', 'Good Selfie (26).jpg', 'Good Selfie (260).jpg', 'Good Selfie (261).jpg', 'Good Selfie (262).jpg', 'Good Selfie (263).jpg', 'Good Selfie (264).jpg', 'Good Selfie (265).jpg', 'Good Selfie (266).jpg', 'Good Selfie (267).jpg', 'Good Selfie (268).jpg', 'Good Selfie (269).jpg', 'Good Selfie (27).jpg', 'Good Selfie (270).jpg', 'Good Selfie (271).jpg', 'Good Selfie (272).jpg', 'Good Selfie (273).jpg', 'Good Selfie (274).jpg', 'Good Selfie (275).jpg', 'Good Selfie (276).jpg', 'Good Selfie (277).jpg', 'Good Selfie (278).jpg', 'Good Selfie (279).jpg', 'Good Selfie (28).jpg', 'Good Selfie (280).jpg', 'Good Selfie (281).jpg', 'Good Selfie (282).jpg', 'Good Selfie (283).jpg', 'Good Selfie (284).jpg', 'Good Selfie (285).jpg', 'Good Selfie (286).jpg', 'Good Selfie (287).jpg', 'Good Selfie (288).jpg', 'Good Selfie (289).jpg', 'Good Selfie (29).jpg', 'Good Selfie (290).jpg', 'Good Selfie (291).jpg', 'Good Selfie (292).jpg', 'Good Selfie (293).jpg', 'Good Selfie (294).jpg', 'Good Selfie (295).jpg', 'Good Selfie (296).jpg', 'Good Selfie (297).jpg', 'Good Selfie (298).jpg', 'Good Selfie (299).jpg', 'Good Selfie (3).jpg', 'Good Selfie (30).jpg', 'Good Selfie (300).jpg', 'Good Selfie (301).jpg', 'Good Selfie (31).jpg', 'Good Selfie (32).jpg', 'Good Selfie (33).jpg', 'Good Selfie (34).jpg', 'Good Selfie (35).jpg', 'Good Selfie (36).jpg', 'Good Selfie (38).jpg', 'Good Selfie (39).jpg', 'Good Selfie (4).jpg', 'Good Selfie (40).jpg', 'Good Selfie (41).jpg', 'Good Selfie (42).jpg', 'Good Selfie (43).jpg', 'Good Selfie (44).jpg', 'Good Selfie (45).jpg', 'Good Selfie (46).jpg', 'Good Selfie (47).jpg', 'Good Selfie (48).jpg', 'Good Selfie (49).jpg', 'Good Selfie (5).jpg', 'Good Selfie (50).jpg', 'Good Selfie (51).jpg', 'Good Selfie (52).jpg', 'Good Selfie (53).jpg', 'Good Selfie (54).jpg', 'Good Selfie (55).jpg', 'Good Selfie (56).jpg', 'Good Selfie (57).jpg', 'Good Selfie (58).jpg', 'Good Selfie (59).jpg', 'Good Selfie (6).jpg', 'Good Selfie (60).jpg', 'Good Selfie (61).jpg', 'Good Selfie (62).jpg', 'Good Selfie (63).jpg', 'Good Selfie (64).jpg', 'Good Selfie (65).jpg', 'Good Selfie (66).jpg', 'Good Selfie (67).jpg', 'Good Selfie (68).jpg', 'Good Selfie (69).jpg', 'Good Selfie (7).jpg', 'Good Selfie (70).jpg', 'Good Selfie (71).jpg', 'Good Selfie (72).jpg', 'Good Selfie (73.jpg', 'Good Selfie (74).jpg', 'Good Selfie (75).jpg', 'Good Selfie (76).jpg', 'Good Selfie (77).jpg', 'Good Selfie (78).jpg', 'Good Selfie (79).jpg', 'Good Selfie (8).jpg', 'Good Selfie (80).jpg', 'Good Selfie (81).jpg', 'Good Selfie (82).jpg', 'Good Selfie (83).jpg', 'Good Selfie (84).jpg', 'Good Selfie (85).jpg', 'Good Selfie (86).jpg', 'Good Selfie (87).jpg', 'Good Selfie (88).jpg', 'Good Selfie (89).jpg', 'Good Selfie (9).jpg', 'Good Selfie (90).jpg', 'Good Selfie (91).jpg', 'Good Selfie (92).jpg', 'Good Selfie (93).jpg', 'Good Selfie (94).jpg', 'Good Selfie (95).jpg', 'Good Selfie (96).jpg', 'Good Selfie (97).jpg', 'Good Selfie (98).jpg', 'Good Selfie (99).jpg']\n",
      "['.jpg', '2001.jpg', '2002.jpg', '2003.jpg', '2004.jpg', '2005.jpg', '2006.jpg', '2007.jpg', '2008.jpg', '2010.jpg', '2011.jpg', '2012.jpg', '2013.jpg', '2014.jpg', '2015.jpg', '2016.jpg', '2017.jpg', '2018.jpg', '2019.jpg', '2020.jpg', '2021.jpg', '2022.jpg', '2023.jpg', '2024.jpg', '2025.jpg', '2026.jpg', '2027.jpg', '2028.jpg', '2029.jpg', '2030.jpg', '2031.jpg', '2032.jpg', '2033.jpg', '2034.jpg', '2035.jpg', '2036.jpg', '2037.jpg', '2038.jpg', '2039.jpg', '2040.jpg', '2041.jpg', '2042.jpg', '2043.jpg', '2044.jpg', '2045.jpg', '2046.jpg', '2047.jpg', '2048.jpg', '2049.jpg', '2050.jpg', '2051.jpg', '2052.jpg', '2053.jpg', '2054.jpg', '2055.jpg', '2056.jpg', '2057.jpg', '2058.jpg', '2059.jpg', '2060.jpg', '2061.jpg', '2062.jpg', '2063.jpg', '2064.jpg', '2065.jpg', '2066.jpg', '2067.jpg', '2068.jpg', '2069.jpg', '2070.jpg', '2071.jpg', '2072.jpg', '2073.jpg', '2074.jpg', '2075.jpg', '2076.jpg', '2077.jpg', '2078.jpg', '2079.jpg', '2080.jpg', '2081.jpg', '2082.jpg', '2083.jpg', '2084.jpg', '2085.jpg', '2086.jpg', '2087.jpg', '2088.jpg', '2089.jpg', '2090.jpg', '2091.jpg', '2092.jpg', '2093.jpg', '2094.jpg', '2095.jpg', '2096.jpg', '2097.jpg', '2098.jpg', '2099.jpg', '2100.jpg', 'Good Selfie (2001).jpg', 'Good Selfie (2002).jpg', 'Good Selfie (2003).jpg', 'Good Selfie (2004).jpg', 'Good Selfie (2005).jpg', 'Good Selfie (2006).jpg', 'Good Selfie (2007).jpg', 'Good Selfie (2008).jpg', 'Good Selfie (2009).jpg', 'Good Selfie (2010).jpg', 'Good Selfie (2011).jpg', 'Good Selfie (2012).jpg', 'Good Selfie (2013).jpg', 'Good Selfie (2014).jpg', 'Good Selfie (2015).jpg', 'Good Selfie (2016).jpg', 'Good Selfie (2017).jpg', 'Good Selfie (2018).jpg', 'Good Selfie (2019).jpg', 'Good Selfie (2020).jpg', 'Good Selfie (2021).jpg', 'Good Selfie (2022).jpg', 'Good Selfie (2023).jpg', 'Good Selfie (2024).jpg', 'Good Selfie (2025).jpg', 'Good Selfie (2026).jpg', 'Good Selfie (2027).jpg', 'Good Selfie (2028).jpg', 'Good Selfie (2029).jpg', 'Good Selfie (2030).jpg', 'Good Selfie (2031).jpg', 'Good Selfie (2032).jpg', 'Good Selfie (2033).jpg', 'Good Selfie (2034).jpg', 'Good Selfie (2035).jpg', 'Good Selfie (2036).jpg', 'Good Selfie (2037).jpg', 'Good Selfie (2038).jpg', 'Good Selfie (2039).jpg', 'Good Selfie (2040).jpg', 'Good Selfie (2041).jpg', 'Good Selfie (2042).jpg', 'Good Selfie (2043).jpg', 'Good Selfie (2044).jpg', 'Good Selfie (2045).jpg', 'Good Selfie (2046).jpg', 'Good Selfie (2047).jpg', 'Good Selfie (2048.jpg', 'Good Selfie (2049).jpg', 'Good Selfie (2050).jpg', 'Good Selfie (2051).jpg', 'Good Selfie (2052).jpg', 'Good Selfie (2053).jpg', 'Good Selfie (2054).jpg', 'Good Selfie (2055).jpg', 'Good Selfie (2056).jpg', 'Good Selfie (2057).jpg', 'Good Selfie (2058).jpg', 'Good Selfie (2059).jpg', 'Good Selfie (2060).jpg', 'Good Selfie (2061).jpg', 'Good Selfie (2062).jpg', 'Good Selfie (2063).jpg', 'Good Selfie (2064).jpg', 'Good Selfie (2065).jpg', 'Good Selfie (2066).jpg', 'Good Selfie (2067).jpg', 'Good Selfie (2068).jpg', 'Good Selfie (2069).jpg', 'Good Selfie (2070).jpg', 'Good Selfie (2071).jpg', 'Good Selfie (2072).jpg', 'Good Selfie (2073).jpg', 'Good Selfie (2074).jpg', 'Good Selfie (2075).jpg', 'Good Selfie (2076).jpg', 'Good Selfie (2077).jpg', 'Good Selfie (2078).jpg', 'Good Selfie (2079).jpg', 'Good Selfie (2080).jpg', 'Good Selfie (2081).jpg', 'Good Selfie (2082).jpg', 'Good Selfie (2083).jpg', 'Good Selfie (2084).jpg', 'Good Selfie (2085).jpg', 'Good Selfie (2086).jpg', 'Good Selfie (2087).jpg', 'Good Selfie (2088).jpg', 'Good Selfie (2089).jpg', 'Good Selfie (2090).jpg', 'Good Selfie (2091).jpg', 'Good Selfie (2092).jpg', 'Good Selfie (2093).jpg', 'Good Selfie (2094).jpg', 'Good Selfie (2095).jpg', 'Good Selfie (2096).jpg', 'Good Selfie (2097).jpg', 'Good Selfie (2098).jpg', 'Good Selfie (2099).jpg', 'Good Selfie (2100).jpg']\n"
     ]
    }
   ],
   "source": [
    "path1='/home/talha/University/SmallDataset/train'\n",
    "path2='/home/talha/University/SmallDataset/test'\n",
    "import numpy as np\n",
    "#import matplotlib.pyplot as plt\n",
    "import os\n",
    "img=os.listdir(path1)\n",
    "img1=os.listdir(path2)\n",
    "img.sort()\n",
    "img1.sort()\n",
    "path3='/home/talha/Desktop/FYP2/assignment1/cs231n/classifiers'\n",
    "os.chdir(path3)\n",
    "print(img)\n",
    "print(img1)\n",
    "from neural_net import TwoLayerNet"
   ]
  },
  {
   "cell_type": "code",
   "execution_count": 2,
   "metadata": {},
   "outputs": [
    {
     "name": "stdout",
     "output_type": "stream",
     "text": [
      "('Training data shape: ', (600, 306, 306, 3))\n",
      "('Training labels shape: ', (600,))\n",
      "('Test data shape: ', (200, 306, 306, 3))\n",
      "('Test labels shape: ', (200,))\n"
     ]
    }
   ],
   "source": [
    "path=\"/home/talha/University/SmallDataset/train\"\n",
    "path1=\"/home/talha/University/SmallDataset/test\"\n",
    "import os\n",
    "img=os.listdir(path)\n",
    "img1=os.listdir(path1)\n",
    "from PIL import Image\n",
    "X_train=np.array([]).reshape(0,306,306,3)\n",
    "X_test=np.array([]).reshape(0,306,306,3)\n",
    "for im in img:\n",
    "    b=np.array([np.array(Image.open(path+'//'+im))])\n",
    "    X_train=np.append(X_train,b,axis=0)\n",
    "count=0  \n",
    "count1=0\n",
    "for i in range(600):\n",
    "    if i<300:\n",
    "        y_train1=np.zeros((300,),dtype=np.int)\n",
    "        count=count+1;\n",
    "        #print(y_train1)\n",
    "    else:\n",
    "        y_train2=np.ones((300,),dtype=np.int)\n",
    "        #print(y_train2)\n",
    "        count1=count1+1\n",
    "#print(count)\n",
    "#print(count1)\n",
    "y_train=np.append(y_train1,y_train2,axis=0)   \n",
    "count2=0\n",
    "count3=0\n",
    "for im3 in img1:\n",
    "    a=np.array([np.array(Image.open(path1+'//'+im3))])\n",
    "    X_test=np.append(X_test,a,axis=0)    \n",
    "for i in range(200):\n",
    "    if i<100:\n",
    "        y_test1=np.zeros((100,),dtype=np.int)\n",
    "        count2=count2+1\n",
    "    else:\n",
    "        y_test2=np.ones((100,),dtype=np.int)\n",
    "        count3=count3+1\n",
    "#print(count2)\n",
    "#print(count3)\n",
    "y_test=np.append(y_test1,y_test2,axis=0)    \n",
    "    \n",
    "#y_train=np.array([[0],[0],[0],[0],[0],[0],[0],[0],[1],[1],[1],[1],[1],[1],[1],[1]])\n",
    "#y_test=np.array([[0],[0],[0],[0],[0],[0],[0],[0],[1],[1],[1],[1],[1],[1],[1],[1]])\n",
    "\n",
    "print('Training data shape: ', X_train.shape)\n",
    "print('Training labels shape: ', y_train.shape)\n",
    "print('Test data shape: ', X_test.shape)\n",
    "print('Test labels shape: ', y_test.shape)"
   ]
  },
  {
   "cell_type": "code",
   "execution_count": 3,
   "metadata": {},
   "outputs": [
    {
     "name": "stdout",
     "output_type": "stream",
     "text": [
      "('Train data shape: ', (600, 280908))\n",
      "('Train labels shape: ', (600,))\n",
      "('Validation data shape: ', (200, 280908))\n",
      "('Validation labels shape: ', (200,))\n",
      "('Test data shape: ', (200, 280908))\n",
      "('Test labels shape: ', (200,))\n"
     ]
    }
   ],
   "source": [
    "num_training=600\n",
    "#num_validation=200\n",
    "num_test=200\n",
    "       \n",
    "#mask = list(range(num_validation))\n",
    "#X_val = X_train[mask]\n",
    "#y_val = y_train[mask]\n",
    "mask = list(range(num_training))\n",
    "X_train = X_train[mask]\n",
    "y_train = y_train[mask]\n",
    "mask = list(range(num_test))\n",
    "X_test = X_test[mask]\n",
    "y_test = y_test[mask]\n",
    "#X_train /=np.std(X_train)\n",
    "#X_test /=np.std(X_test)\n",
    "#X_val /=np.std(X_val)\n",
    "#X_dev /=np.std(X_train)\n",
    "\n",
    "    # Normalize the data: subtract the mean image\n",
    "mean_image = np.mean(X_train, axis=0)\n",
    "X_train -= mean_image\n",
    "#X_val -= mean_image\n",
    "X_test -= mean_image\n",
    "\n",
    "    # Reshape data to rows\n",
    "X_train = X_train.reshape(num_training, -1)\n",
    "#X_val = X_val.reshape(num_validation, -1)\n",
    "X_test = X_test.reshape(num_test, -1)\n",
    "X_val=X_test\n",
    "y_val=y_test\n",
    "#return X_train, y_train, X_val, y_val, X_test, y_test\n",
    "\n",
    "\n",
    "# Invoke the above function to get our data.\n",
    "#X_train, y_train, X_val, y_val, X_test, y_test = get_CIFAR10_data()\n",
    "print('Train data shape: ', X_train.shape)\n",
    "print('Train labels shape: ', y_train.shape)\n",
    "print('Validation data shape: ', X_val.shape)\n",
    "print('Validation labels shape: ', y_val.shape)\n",
    "print('Test data shape: ', X_test.shape)\n",
    "print('Test labels shape: ', y_test.shape)"
   ]
  },
  {
   "cell_type": "code",
   "execution_count": 4,
   "metadata": {},
   "outputs": [
    {
     "name": "stdout",
     "output_type": "stream",
     "text": [
      "iteration 0 / 1500: loss 0.728996\n",
      "iteration 100 / 1500: loss 0.802655\n",
      "iteration 200 / 1500: loss 0.731732\n",
      "iteration 300 / 1500: loss 0.367954\n",
      "iteration 400 / 1500: loss 0.271607\n",
      "iteration 500 / 1500: loss 0.682653\n",
      "iteration 600 / 1500: loss 0.637533\n",
      "iteration 700 / 1500: loss 0.744106\n",
      "iteration 800 / 1500: loss 0.113714\n",
      "iteration 900 / 1500: loss 0.071680\n",
      "iteration 1000 / 1500: loss 0.059934\n",
      "iteration 1100 / 1500: loss 0.047405\n",
      "iteration 1200 / 1500: loss 0.041882\n",
      "iteration 1300 / 1500: loss 0.045274\n",
      "iteration 1400 / 1500: loss 0.041825\n",
      "('Validation accuracy: ', 0.51)\n"
     ]
    }
   ],
   "source": [
    "input_size = 306 * 306 * 3\n",
    "hidden_size = 50\n",
    "num_classes = 2\n",
    "net = TwoLayerNet(input_size, hidden_size, num_classes)\n",
    "\n",
    "# Train the network\n",
    "stats = net.train(X_train, y_train, X_val, y_val,\n",
    "            num_iters=1500, batch_size=10,\n",
    "            learning_rate=1e-4, learning_rate_decay=0.95,\n",
    "            reg=0.5, verbose=True)\n",
    "\n",
    "# Predict on the validation set\n",
    "val_acc = (net.predict(X_val) == y_val).mean()\n",
    "print('Validation accuracy: ', val_acc)\n",
    "\n"
   ]
  },
  {
   "cell_type": "code",
   "execution_count": 8,
   "metadata": {
    "scrolled": true
   },
   "outputs": [
    {
     "name": "stdout",
     "output_type": "stream",
     "text": [
      "iteration 0 / 1500: loss 0.720264\n",
      "iteration 100 / 1500: loss 4.672375\n",
      "iteration 200 / 1500: loss 2.936458\n",
      "iteration 300 / 1500: loss 0.981855\n",
      "iteration 400 / 1500: loss 0.406604\n",
      "iteration 500 / 1500: loss 1.026726\n",
      "iteration 600 / 1500: loss 0.424427\n",
      "iteration 700 / 1500: loss 0.333985\n",
      "iteration 800 / 1500: loss 0.081774\n",
      "iteration 900 / 1500: loss 0.060470\n",
      "iteration 1000 / 1500: loss 0.066694\n",
      "iteration 1100 / 1500: loss 0.051707\n",
      "iteration 1200 / 1500: loss 0.055747\n",
      "iteration 1300 / 1500: loss 0.068841\n",
      "iteration 1400 / 1500: loss 0.044146\n",
      "lr 2.000000e-04 reg 4.000000e-01 val accuracy: 0.555000\n",
      "best validation accuracy achieved during cross-validation: 0.555000\n"
     ]
    }
   ],
   "source": [
    "hidden_size = 50\n",
    "\n",
    "results = {}\n",
    "best_val = -1\n",
    "best_net = None\n",
    "\n",
    "learning_rates = [2e-4]\n",
    "regularization_strengths = [0.4]\n",
    "\n",
    "for lr in learning_rates:\n",
    "    for reg in regularization_strengths:\n",
    "        net = TwoLayerNet(input_size, hidden_size, num_classes)\n",
    "        stats = net.train(X_train, y_train, X_val, y_val,\n",
    "        num_iters=1500, batch_size=10,\n",
    "        learning_rate=lr, learning_rate_decay=0.85,\n",
    "        reg= reg, verbose=True)\n",
    "        val_acc = (net.predict(X_val) == y_val).mean()\n",
    "        if val_acc > best_val:\n",
    "            best_val = val_acc\n",
    "            best_net = net         \n",
    "        results[(lr,reg)] = val_acc\n",
    "\n",
    "# Print out results.\n",
    "for lr, reg in sorted(results):\n",
    "    val_acc = results[(lr, reg)]\n",
    "    print ('lr %e reg %e val accuracy: %f' % (lr, reg,  val_acc))\n",
    "    \n",
    "print ('best validation accuracy achieved during cross-validation: %f' % best_val)\n"
   ]
  },
  {
   "cell_type": "code",
   "execution_count": 9,
   "metadata": {},
   "outputs": [
    {
     "name": "stdout",
     "output_type": "stream",
     "text": [
      "('Test accuracy: ', 0.555)\n",
      "('Test accuracy percentage: ', 55.50000000000001)\n"
     ]
    }
   ],
   "source": [
    "test_acc = (best_net.predict(X_test) == y_test).mean()\n",
    "print('Test accuracy: ', test_acc)\n",
    "test_acc1 = (best_net.predict(X_test) == y_test).mean()\n",
    "print('Test accuracy percentage: ', test_acc1*100)"
   ]
  },
  {
   "cell_type": "code",
   "execution_count": 39,
   "metadata": {},
   "outputs": [
    {
     "name": "stdout",
     "output_type": "stream",
     "text": [
      "/home/talha/Desktop/test.jpg\n"
     ]
    }
   ],
   "source": [
    "from  Tkinter import *\n",
    "import Tkinter, Tkconstants, tkFileDialog\n",
    "root = Tk()\n",
    "root.filename = tkFileDialog.askopenfilename(initialdir = \"/\",title = \"Select file\",filetypes = ((\"jpeg files\",\"*.jpg\"),(\"all files\",\"*.*\")))\n",
    "print (root.filename)"
   ]
  },
  {
   "cell_type": "code",
   "execution_count": 40,
   "metadata": {},
   "outputs": [],
   "source": [
    "#from PIL import Image\n",
    "#image = Image.open(root.filename)\n",
    "#size= width, height= image.size\n",
    "\n",
    "#a=image.resize((306,306))\n",
    "#print(a)\n",
    "#a.show()\n",
    "import cv2\n",
    "img=cv2.imread(root.filename)\n",
    "resized_image = cv2.resize(img, (306, 306)) \n",
    "b=cv2.imwrite('/home/talha/Desktop/123.jpg',resized_image)\n",
    "#print(img)"
   ]
  },
  {
   "cell_type": "code",
   "execution_count": 41,
   "metadata": {},
   "outputs": [
    {
     "name": "stdout",
     "output_type": "stream",
     "text": [
      "/home/talha/Desktop/123.jpg\n"
     ]
    }
   ],
   "source": [
    "from  Tkinter import *\n",
    "import Tkinter, Tkconstants, tkFileDialog\n",
    "root = Tk()\n",
    "root.filename = tkFileDialog.askopenfilename(initialdir = \"/\",title = \"Select file\",filetypes = ((\"jpeg files\",\"*.jpg\"),(\"all files\",\"*.*\")))\n",
    "print (root.filename)"
   ]
  },
  {
   "cell_type": "code",
   "execution_count": 42,
   "metadata": {},
   "outputs": [
    {
     "name": "stdout",
     "output_type": "stream",
     "text": [
      "(1, 306, 306, 3)\n",
      "('Class is: ', array([0]))\n"
     ]
    }
   ],
   "source": [
    "from PIL import Image\n",
    "from PIL import ImageFont\n",
    "from PIL import Image\n",
    "from PIL import ImageDraw\n",
    "import numpy as np\n",
    "font = ImageFont.truetype(\"/usr/share/fonts/truetype/ubuntu-font-family/Ubuntu-B.ttf\",28)\n",
    "import os\n",
    "#path3='/home/talha/Desktop/123.jpg'\n",
    "path3=root.filename\n",
    "img=Image.open(path3)\n",
    "#img.show()\n",
    "X_test=np.array([]).reshape(0,306,306,3)\n",
    "b=np.array([np.array(Image.open(path3))])\n",
    "X_test=np.append(X_test,b,axis=0)\n",
    "#print(X_test)\n",
    "print(X_test.shape)\n",
    "mean_image=np.mean(X_train,axis=0)\n",
    "X_test=X_test.flatten()\n",
    "#X_test=X_test.reshape(1,X_test)\n",
    "#X_test-=mean_image\n",
    "#print(X_test)\n",
    "#print(X_test)\n",
    "#print(X_test.shape)\n",
    "X_test=X_test.reshape(1,280908)\n",
    "#print(X_test)\n",
    "X_test-=mean_image\n",
    "#print(X_test)\n",
    "test_acc = (best_net.predict(X_test))\n",
    "print('Class is: ', test_acc)\n",
    "\n",
    "draw = ImageDraw.Draw(img)\n",
    "if test_acc==1:\n",
    "    draw.text((0, 0),\"Good Selfie\",(0,255,0),font=font)\n",
    "else:\n",
    "    draw.text((0, 0),\"Bad Selfie\",(255,0,0),font=font)\n",
    "draw = ImageDraw.Draw(img)\n",
    "img.show() \n",
    "#if test_acc==1:\n",
    "#    print('Selfie is good')\n",
    "#else:\n",
    "#    print('Selfie is bad')\n"
   ]
  },
  {
   "cell_type": "code",
   "execution_count": null,
   "metadata": {},
   "outputs": [],
   "source": []
  }
 ],
 "metadata": {
  "kernelspec": {
   "display_name": "Python 2",
   "language": "python",
   "name": "python2"
  },
  "language_info": {
   "codemirror_mode": {
    "name": "ipython",
    "version": 2
   },
   "file_extension": ".py",
   "mimetype": "text/x-python",
   "name": "python",
   "nbconvert_exporter": "python",
   "pygments_lexer": "ipython2",
   "version": "2.7.12"
  }
 },
 "nbformat": 4,
 "nbformat_minor": 2
}
