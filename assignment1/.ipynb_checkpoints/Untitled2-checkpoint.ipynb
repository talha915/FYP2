{
 "cells": [
  {
   "cell_type": "code",
   "execution_count": 9,
   "metadata": {},
   "outputs": [
    {
     "name": "stdout",
     "output_type": "stream",
     "text": [
      "[[[[ 255.  255.  255.]\n",
      "   [ 255.  255.  255.]\n",
      "   [ 255.  255.  255.]\n",
      "   ..., \n",
      "   [ 255.  255.  255.]\n",
      "   [ 255.  255.  255.]\n",
      "   [ 255.  255.  255.]]\n",
      "\n",
      "  [[ 255.  255.  255.]\n",
      "   [ 255.  255.  255.]\n",
      "   [ 255.  255.  255.]\n",
      "   ..., \n",
      "   [ 255.  255.  255.]\n",
      "   [ 255.  255.  255.]\n",
      "   [ 255.  255.  255.]]\n",
      "\n",
      "  [[ 255.  255.  255.]\n",
      "   [ 255.  255.  255.]\n",
      "   [ 255.  255.  255.]\n",
      "   ..., \n",
      "   [ 255.  255.  255.]\n",
      "   [ 255.  255.  255.]\n",
      "   [ 255.  255.  255.]]\n",
      "\n",
      "  ..., \n",
      "  [[ 255.  255.  255.]\n",
      "   [ 255.  255.  255.]\n",
      "   [ 255.  255.  255.]\n",
      "   ..., \n",
      "   [ 255.  255.  255.]\n",
      "   [ 255.  255.  255.]\n",
      "   [ 255.  255.  255.]]\n",
      "\n",
      "  [[ 255.  255.  255.]\n",
      "   [ 255.  255.  255.]\n",
      "   [ 255.  255.  255.]\n",
      "   ..., \n",
      "   [ 255.  255.  255.]\n",
      "   [ 255.  255.  255.]\n",
      "   [ 255.  255.  255.]]\n",
      "\n",
      "  [[ 255.  255.  255.]\n",
      "   [ 255.  255.  255.]\n",
      "   [ 255.  255.  255.]\n",
      "   ..., \n",
      "   [ 255.  255.  255.]\n",
      "   [ 255.  255.  255.]\n",
      "   [ 255.  255.  255.]]]]\n"
     ]
    }
   ],
   "source": [
    "from PIL import Image\n",
    "import numpy as np\n",
    "path3='/home/talha/University/SmallDataset/train/290.jpg'\n",
    "img=Image.open(path3)\n",
    "img.show()\n",
    "X_test=np.array([]).reshape(0,306,306,3)\n",
    "b=np.array([np.array(Image.open(path3))])\n",
    "X_test=np.append(X_test,b,axis=0)\n",
    "print(X_test)"
   ]
  },
  {
   "cell_type": "code",
   "execution_count": null,
   "metadata": {},
   "outputs": [],
   "source": []
  },
  {
   "cell_type": "code",
   "execution_count": null,
   "metadata": {},
   "outputs": [],
   "source": []
  }
 ],
 "metadata": {
  "kernelspec": {
   "display_name": "Python 2",
   "language": "python",
   "name": "python2"
  },
  "language_info": {
   "codemirror_mode": {
    "name": "ipython",
    "version": 2
   },
   "file_extension": ".py",
   "mimetype": "text/x-python",
   "name": "python",
   "nbconvert_exporter": "python",
   "pygments_lexer": "ipython2",
   "version": "2.7.12"
  }
 },
 "nbformat": 4,
 "nbformat_minor": 2
}
