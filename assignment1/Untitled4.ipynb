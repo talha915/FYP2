{
 "cells": [
  {
   "cell_type": "code",
   "execution_count": 41,
   "metadata": {},
   "outputs": [
    {
     "name": "stdout",
     "output_type": "stream",
     "text": [
      "[[[80 73 88]\n",
      "  [79 72 85]\n",
      "  [79 73 84]\n",
      "  ...\n",
      "  [ 4 38 51]\n",
      "  [ 2 37 50]\n",
      "  [ 2 38 48]]\n",
      "\n",
      " [[77 75 87]\n",
      "  [76 75 85]\n",
      "  [75 74 83]\n",
      "  ...\n",
      "  [ 8 42 55]\n",
      "  [ 3 39 49]\n",
      "  [ 1 38 46]]\n",
      "\n",
      " [[75 81 88]\n",
      "  [73 79 84]\n",
      "  [71 78 81]\n",
      "  ...\n",
      "  [14 50 58]\n",
      "  [ 9 47 52]\n",
      "  [ 6 46 51]]\n",
      "\n",
      " ...\n",
      "\n",
      " [[ 1 14 46]\n",
      "  [ 4 18 47]\n",
      "  [10 21 49]\n",
      "  ...\n",
      "  [53 23 18]\n",
      "  [52 27 17]\n",
      "  [49 30 17]]\n",
      "\n",
      " [[ 1 20 41]\n",
      "  [ 7 24 45]\n",
      "  [13 26 48]\n",
      "  ...\n",
      "  [56 24 11]\n",
      "  [51 30  8]\n",
      "  [51 34  7]]\n",
      "\n",
      " [[ 4 24 41]\n",
      "  [10 28 45]\n",
      "  [15 30 49]\n",
      "  ...\n",
      "  [55 25  6]\n",
      "  [52 31  3]\n",
      "  [50 36  0]]]\n"
     ]
    }
   ],
   "source": [
    "import cv2\n",
    "img=cv2.imread('/home/talha/Pictures/Webcam/1234.jpg')\n",
    "print(img)"
   ]
  },
  {
   "cell_type": "code",
   "execution_count": 4,
   "metadata": {},
   "outputs": [],
   "source": []
  },
  {
   "cell_type": "code",
   "execution_count": 35,
   "metadata": {},
   "outputs": [
    {
     "name": "stdout",
     "output_type": "stream",
     "text": [
      "[[77 78 84 ... 48 41 40]\n",
      " [81 81 82 ... 55 51 50]\n",
      " [81 80 77 ... 48 43 43]\n",
      " ...\n",
      " [28 28 19 ... 28 19 24]\n",
      " [29 22 24 ... 30 20 24]\n",
      " [30 22 24 ... 28 20 24]]\n"
     ]
    }
   ],
   "source": []
  },
  {
   "cell_type": "code",
   "execution_count": 42,
   "metadata": {},
   "outputs": [
    {
     "name": "stdout",
     "output_type": "stream",
     "text": [
      "[[[76 74 84]\n",
      "  [78 81 75]\n",
      "  [79 88 75]\n",
      "  ...\n",
      "  [21 42 71]\n",
      "  [15 39 63]\n",
      "  [ 5 40 52]]\n",
      "\n",
      " [[73 81 81]\n",
      "  [77 85 75]\n",
      "  [78 86 75]\n",
      "  ...\n",
      "  [30 52 70]\n",
      "  [21 47 61]\n",
      "  [15 54 59]]\n",
      "\n",
      " [[87 85 71]\n",
      "  [84 85 72]\n",
      "  [79 82 71]\n",
      "  ...\n",
      "  [26 46 63]\n",
      "  [17 43 57]\n",
      "  [ 5 44 57]]\n",
      "\n",
      " ...\n",
      "\n",
      " [[18 26 35]\n",
      "  [21 24 34]\n",
      "  [15 17 28]\n",
      "  ...\n",
      "  [48 23 29]\n",
      "  [42 17 19]\n",
      "  [42 21 22]]\n",
      "\n",
      " [[ 9 17 48]\n",
      "  [19 23 35]\n",
      "  [17 22 23]\n",
      "  ...\n",
      "  [53 30 22]\n",
      "  [51 18 15]\n",
      "  [50 22 20]]\n",
      "\n",
      " [[11 26 47]\n",
      "  [14 15 37]\n",
      "  [18 20 30]\n",
      "  ...\n",
      "  [55 29 17]\n",
      "  [53 14 19]\n",
      "  [54 27  8]]]\n"
     ]
    }
   ],
   "source": [
    "resized_image = cv2.resize(img, (306, 306)) \n",
    "print(resized_image)"
   ]
  },
  {
   "cell_type": "code",
   "execution_count": 43,
   "metadata": {},
   "outputs": [],
   "source": [
    "b=cv2.imwrite('/home/talha/Pictures/Webcam/1234.jpg',resized_image)"
   ]
  },
  {
   "cell_type": "code",
   "execution_count": 44,
   "metadata": {},
   "outputs": [
    {
     "name": "stdout",
     "output_type": "stream",
     "text": [
      "True\n"
     ]
    }
   ],
   "source": [
    "print(b)"
   ]
  },
  {
   "cell_type": "code",
   "execution_count": null,
   "metadata": {},
   "outputs": [],
   "source": []
  }
 ],
 "metadata": {
  "kernelspec": {
   "display_name": "Python 2",
   "language": "python",
   "name": "python2"
  },
  "language_info": {
   "codemirror_mode": {
    "name": "ipython",
    "version": 2
   },
   "file_extension": ".py",
   "mimetype": "text/x-python",
   "name": "python",
   "nbconvert_exporter": "python",
   "pygments_lexer": "ipython2",
   "version": "2.7.12"
  }
 },
 "nbformat": 4,
 "nbformat_minor": 2
}
